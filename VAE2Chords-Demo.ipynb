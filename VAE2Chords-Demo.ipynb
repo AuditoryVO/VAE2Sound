{
 "cells": [
  {
   "cell_type": "markdown",
   "metadata": {},
   "source": [
    "# Spatialized exploration of the MILES stellar library\n",
    "\n",
    "Data download: http://svocats.cab.inta-csic.es/miles/index.php?action=credits\n",
    "#### ACKNOWLEDGMENT\n",
    "This work is based on data from the MILES service developed by the Spanish Virtual Observatory in the framework of the IAU Comission G5 Working Group : Spectral Stellar Libraries."
   ]
  },
  {
   "cell_type": "code",
   "execution_count": 1,
   "metadata": {},
   "outputs": [],
   "source": [
    "from astropy.io import fits\n",
    "import numpy as np\n",
    "import matplotlib.pyplot as plt\n",
    "\n",
    "import time\n",
    "from pythonosc import udp_client\n",
    "\n",
    "import os\n",
    "from pathlib import Path"
   ]
  },
  {
   "cell_type": "code",
   "execution_count": 2,
   "metadata": {},
   "outputs": [],
   "source": [
    "import tensorflow as tf\n",
    "from tensorflow.keras import layers"
   ]
  },
  {
   "cell_type": "markdown",
   "metadata": {},
   "source": [
    "## Importing the Variational Autoencoder"
   ]
  },
  {
   "cell_type": "code",
   "execution_count": 3,
   "metadata": {},
   "outputs": [
    {
     "name": "stderr",
     "output_type": "stream",
     "text": [
      "2023-09-07 19:15:32.526797: I tensorflow/core/platform/cpu_feature_guard.cc:193] This TensorFlow binary is optimized with oneAPI Deep Neural Network Library (oneDNN) to use the following CPU instructions in performance-critical operations:  AVX2 AVX512F AVX512_VNNI FMA\n",
      "To enable them in other operations, rebuild TensorFlow with the appropriate compiler flags.\n"
     ]
    }
   ],
   "source": [
    "vae = tf.keras.models.load_model('Miles_VAE.tf')"
   ]
  },
  {
   "cell_type": "code",
   "execution_count": 4,
   "metadata": {},
   "outputs": [
    {
     "name": "stdout",
     "output_type": "stream",
     "text": [
      "WARNING:tensorflow:No training configuration found in save file, so the model was *not* compiled. Compile it manually.\n"
     ]
    }
   ],
   "source": [
    "encoder = tf.keras.models.load_model('Miles_VAE_Encoder.tf')"
   ]
  },
  {
   "cell_type": "code",
   "execution_count": 5,
   "metadata": {},
   "outputs": [
    {
     "name": "stdout",
     "output_type": "stream",
     "text": [
      "WARNING:tensorflow:No training configuration found in save file, so the model was *not* compiled. Compile it manually.\n"
     ]
    }
   ],
   "source": [
    "decoder = tf.keras.models.load_model('Miles_VAE_Decoder.tf')"
   ]
  },
  {
   "cell_type": "code",
   "execution_count": 6,
   "metadata": {},
   "outputs": [
    {
     "data": {
      "text/plain": [
       "<tensorflow.python.training.tracking.util.CheckpointLoadStatus at 0x7fb189889d00>"
      ]
     },
     "execution_count": 6,
     "metadata": {},
     "output_type": "execute_result"
    }
   ],
   "source": [
    "vae.load_weights('Miles_VAE_Weights')"
   ]
  },
  {
   "cell_type": "code",
   "execution_count": 7,
   "metadata": {},
   "outputs": [],
   "source": [
    "optimizer = tf.keras.optimizers.Adam(learning_rate=1e-3)\n",
    "vae.compile(optimizer, loss=tf.keras.losses.MeanSquaredError())"
   ]
  },
  {
   "cell_type": "code",
   "execution_count": 8,
   "metadata": {},
   "outputs": [],
   "source": [
    "root = '## YOUR FOLDER PATH TO THE DOWNLOADED SPECTRA ##'"
   ]
  },
  {
   "cell_type": "markdown",
   "metadata": {},
   "source": [
    "## Launching the sonification"
   ]
  },
  {
   "cell_type": "code",
   "execution_count": 9,
   "metadata": {
    "scrolled": true
   },
   "outputs": [
    {
     "name": "stdout",
     "output_type": "stream",
     "text": [
      " 1 Spectrum represented: miles_spec_fits_s0597\n",
      "[-1276.96454525]\n",
      "[-244.36088279]\n",
      "[-3023.50342274]\n",
      "[505.76936454]\n",
      "[404.74582464]\n",
      "[4145.79123259]\n",
      "[1969.01291609]\n",
      "[-1102.25327313]\n",
      "[-1742.7867651]\n",
      "[-2434.33013558]\n",
      "[-2120.01413107]\n",
      "[1547.33613133]\n",
      " 2 Spectrum represented: miles_spec_fits_s0981\n",
      "[-1217.15798974]\n",
      "[-1153.64916623]\n",
      "[6.4342469]\n",
      "[451.25506818]\n",
      "[1311.3373518]\n",
      "[2846.34411335]\n",
      "[-1281.55976534]\n",
      "[1127.81181931]\n",
      "[-1119.05142665]\n",
      "[-3488.20209503]\n",
      "[-516.75051451]\n",
      "[148.65033329]\n",
      " 3 Spectrum represented: miles_spec_fits_s0578\n",
      "[-971.93740308]\n",
      "[-382.67131895]\n",
      "[426.46721005]\n",
      "[-1107.45385289]\n",
      "[-566.95349514]\n",
      "[-4065.23734331]\n",
      "[-1176.09657347]\n",
      "[363.93549293]\n",
      "[-690.29927254]\n",
      "[360.13014615]\n",
      "[-2542.28383303]\n",
      "[350.15918314]\n"
     ]
    },
    {
     "ename": "KeyboardInterrupt",
     "evalue": "",
     "output_type": "error",
     "traceback": [
      "\u001b[0;31m---------------------------------------------------------------------------\u001b[0m",
      "\u001b[0;31mKeyboardInterrupt\u001b[0m                         Traceback (most recent call last)",
      "Input \u001b[0;32mIn [9]\u001b[0m, in \u001b[0;36m<cell line: 2>\u001b[0;34m()\u001b[0m\n\u001b[1;32m     95\u001b[0m \u001b[38;5;28mprint\u001b[39m(x[\u001b[38;5;241m11\u001b[39m]) \n\u001b[1;32m     96\u001b[0m plt\u001b[38;5;241m.\u001b[39mclose(fig)\n\u001b[0;32m---> 97\u001b[0m \u001b[43mtime\u001b[49m\u001b[38;5;241;43m.\u001b[39;49m\u001b[43msleep\u001b[49m\u001b[43m(\u001b[49m\u001b[43mduration\u001b[49m\u001b[38;5;241;43m+\u001b[39;49m\u001b[38;5;241;43m1\u001b[39;49m\u001b[43m)\u001b[49m\n\u001b[1;32m     99\u001b[0m client_s\u001b[38;5;241m.\u001b[39msend_message(\u001b[38;5;124m\"\u001b[39m\u001b[38;5;124m/s\u001b[39m\u001b[38;5;124m\"\u001b[39m, \u001b[38;5;241m0\u001b[39m)\n",
      "\u001b[0;31mKeyboardInterrupt\u001b[0m: "
     ]
    }
   ],
   "source": [
    "curves=0\n",
    "for path, subdirs, files in os.walk(root):\n",
    "    for name in files:\n",
    "        curves=curves+1\n",
    "        file = [os.path.join(path, name)]\n",
    "        str = \" \" \n",
    "        Ffile = (str.join(file))\n",
    "        route = Path(name)\n",
    "        Fname = route.with_suffix('')\n",
    "        Fpng = route.with_suffix('.png')\n",
    "        \n",
    "        \n",
    "        sp = fits.open(Ffile)\n",
    "        flux2 = np.array(sp[0].data)\n",
    "        flux_norm = flux2/(np.nanmax(flux2))\n",
    "        wave2 = np.ones(sp[0].header['NAXIS1'], dtype=float)\n",
    "        for i in range(sp[0].header['NAXIS1']):\n",
    "            wave2[i] = sp[0].header['CRVAL1'] + i*sp[0].header['CDELT1']\n",
    "        sp.close()\n",
    "        \n",
    "        flux_print = np.squeeze(flux_norm)\n",
    "        \n",
    "        encoded_imgs = encoder(flux_norm).numpy()\n",
    "        decoded_imgs = vae(flux_norm).numpy()        \n",
    "        \n",
    "        fig, ax = plt.subplots(1, 2, figsize=(16, 6))\n",
    "        fig.suptitle(Fname, size=14)\n",
    "        fig.subplots_adjust(hspace=0.35, wspace=0.15, left=0.07, right=0.97)\n",
    "        \n",
    "        ax[0].plot(wave2, flux_print)\n",
    "        ax[0].set_xlabel('Original Spectra')   \n",
    "        ax[1].plot(wave2, decoded_imgs[0])\n",
    "        ax[1].set_xlabel('Decoded Spectra')\n",
    "        plt.savefig('Autoencoder.png')\n",
    "        \n",
    "        encoded_imgs = np.squeeze(encoded_imgs)\n",
    "        x = np.zeros((len(encoded_imgs), 1))\n",
    "        for i in range(len(encoded_imgs)):\n",
    "            x[i] = encoded_imgs[i]*10000\n",
    "              \n",
    "        duration = 4\n",
    "        interval = 1\n",
    "        \n",
    "        print (\"\", curves, \"Spectrum represented:\",Fname)\n",
    "\n",
    "        client_s = udp_client.SimpleUDPClient(\"127.0.0.1\", 9989)\n",
    "        client_s.send_message(\"/s\", 1)\n",
    "\n",
    "        client0 = udp_client.SimpleUDPClient(\"127.0.0.1\", 9990)   \n",
    "        client0.send_message(\"/0\", x[0])\n",
    "        print(x[0])\n",
    "        client1 = udp_client.SimpleUDPClient(\"127.0.0.1\", 9991) \n",
    "        client1.send_message(\"/1\", x[1])\n",
    "        print(x[1])\n",
    "        client2 = udp_client.SimpleUDPClient(\"127.0.0.1\", 9992) \n",
    "        client2.send_message(\"/2\", x[2])\n",
    "        print(x[2])\n",
    "        client3 = udp_client.SimpleUDPClient(\"127.0.0.1\", 9993) \n",
    "        client3.send_message(\"/3\", x[3])\n",
    "        print(x[3])\n",
    "        client4 = udp_client.SimpleUDPClient(\"127.0.0.1\", 9994) \n",
    "        client4.send_message(\"/4\", x[4])\n",
    "        print(x[4])\n",
    "        client5 = udp_client.SimpleUDPClient(\"127.0.0.1\", 9995)\n",
    "        client5.send_message(\"/5\", x[5])\n",
    "        print(x[5])\n",
    "        client6 = udp_client.SimpleUDPClient(\"127.0.0.1\", 9996)\n",
    "        client6.send_message(\"/6\", x[6])\n",
    "        print(x[6])\n",
    "        client7 = udp_client.SimpleUDPClient(\"127.0.0.1\", 9997)\n",
    "        client7.send_message(\"/7\", x[7])\n",
    "        print(x[7])\n",
    "        client8 = udp_client.SimpleUDPClient(\"127.0.0.1\", 9998)\n",
    "        client8.send_message(\"/8\", x[8])\n",
    "        print(x[8])\n",
    "        client9 = udp_client.SimpleUDPClient(\"127.0.0.1\", 9999)\n",
    "        client9.send_message(\"/9\", x[9])\n",
    "        print(x[9])\n",
    "        client10 = udp_client.SimpleUDPClient(\"127.0.0.1\", 9980)\n",
    "        client10.send_message(\"/10\", x[10])\n",
    "        print(x[10])\n",
    "        client11 = udp_client.SimpleUDPClient(\"127.0.0.1\", 9981)\n",
    "        client11.send_message(\"/11\", x[11])\n",
    "        print(x[11]) \n",
    "        plt.close(fig)\n",
    "        time.sleep(duration+1)\n",
    "        \n",
    "        client_s.send_message(\"/s\", 0)\n",
    "        "
   ]
  },
  {
   "cell_type": "code",
   "execution_count": 10,
   "metadata": {},
   "outputs": [
    {
     "data": {
      "text/html": [
       "<details>\n",
       "<summary>Click to view session information</summary>\n",
       "<pre>\n",
       "-----\n",
       "astropy             5.1\n",
       "keras               2.9.0\n",
       "matplotlib          3.2.2\n",
       "numpy               1.22.3\n",
       "pythonosc           NA\n",
       "session_info        1.0.0\n",
       "tensorflow          2.9.1\n",
       "-----\n",
       "</pre>\n",
       "<details>\n",
       "<summary>Click to view modules imported as dependencies</summary>\n",
       "<pre>\n",
       "CoreFoundation                              NA\n",
       "Foundation                                  NA\n",
       "PIL                                         9.2.0\n",
       "PyObjCTools                                 NA\n",
       "aa8f2297d25b4dc6fd3d98411eb3ba53823c4f42    NA\n",
       "absl                                        NA\n",
       "anyio                                       NA\n",
       "appnope                                     0.1.2\n",
       "arrow                                       1.2.3\n",
       "asttokens                                   NA\n",
       "astunparse                                  1.6.3\n",
       "attr                                        23.1.0\n",
       "attrs                                       23.1.0\n",
       "babel                                       2.12.1\n",
       "backcall                                    0.2.0\n",
       "bottleneck                                  1.3.2\n",
       "brotli                                      NA\n",
       "certifi                                     2022.09.24\n",
       "cffi                                        1.15.0\n",
       "chardet                                     4.0.0\n",
       "charset_normalizer                          2.0.4\n",
       "colorama                                    0.4.5\n",
       "cycler                                      0.10.0\n",
       "cython_runtime                              NA\n",
       "dateutil                                    2.8.2\n",
       "debugpy                                     1.5.1\n",
       "decorator                                   5.1.1\n",
       "defusedxml                                  0.7.1\n",
       "dill                                        0.3.5.1\n",
       "dot_parser                                  NA\n",
       "entrypoints                                 0.4\n",
       "erfa                                        2.0.0.1\n",
       "executing                                   0.8.3\n",
       "fastjsonschema                              NA\n",
       "flatbuffers                                 NA\n",
       "fqdn                                        NA\n",
       "fsspec                                      2022.3.0\n",
       "gast                                        NA\n",
       "google                                      NA\n",
       "h5py                                        2.10.0\n",
       "idna                                        3.3\n",
       "importlib_metadata                          NA\n",
       "importlib_resources                         NA\n",
       "ipykernel                                   6.9.1\n",
       "ipython_genutils                            0.2.0\n",
       "isoduration                                 NA\n",
       "jedi                                        0.17.1\n",
       "jinja2                                      3.1.2\n",
       "json5                                       NA\n",
       "jsonpointer                                 2.4\n",
       "jsonschema                                  4.18.6\n",
       "jsonschema_specifications                   NA\n",
       "jupyter_server                              1.24.0\n",
       "jupyterlab_server                           2.24.0\n",
       "kiwisolver                                  1.4.2\n",
       "markupsafe                                  2.0.1\n",
       "matplotlib_inline                           NA\n",
       "mkl                                         2.4.0\n",
       "mpl_toolkits                                NA\n",
       "nbformat                                    5.3.0\n",
       "numexpr                                     2.8.5\n",
       "objc                                        9.2\n",
       "opt_einsum                                  v3.3.0\n",
       "packaging                                   21.3\n",
       "pandas                                      1.4.4\n",
       "parso                                       0.7.0\n",
       "pexpect                                     4.8.0\n",
       "pickleshare                                 0.7.5\n",
       "pkg_resources                               NA\n",
       "platformdirs                                3.10.0\n",
       "prometheus_client                           NA\n",
       "prompt_toolkit                              3.0.20\n",
       "psutil                                      5.9.0\n",
       "ptyprocess                                  0.7.0\n",
       "pure_eval                                   0.2.2\n",
       "pydev_ipython                               NA\n",
       "pydevconsole                                NA\n",
       "pydevd                                      2.6.0\n",
       "pydevd_concurrency_analyser                 NA\n",
       "pydevd_file_utils                           NA\n",
       "pydevd_plugins                              NA\n",
       "pydevd_tracing                              NA\n",
       "pydot                                       1.4.2\n",
       "pygments                                    2.15.1\n",
       "pyparsing                                   3.0.4\n",
       "pytz                                        2022.1\n",
       "referencing                                 NA\n",
       "requests                                    2.28.0\n",
       "rfc3339_validator                           0.1.4\n",
       "rfc3986_validator                           0.1.1\n",
       "rpds                                        NA\n",
       "scipy                                       1.7.3\n",
       "send2trash                                  NA\n",
       "setuptools                                  67.8.0\n",
       "six                                         1.16.0\n",
       "sniffio                                     1.2.0\n",
       "socks                                       1.7.1\n",
       "sphinxcontrib                               NA\n",
       "stack_data                                  0.2.0\n",
       "stsci                                       NA\n",
       "tblib                                       1.7.0\n",
       "tensorboard                                 2.9.1\n",
       "termcolor                                   1.1.0\n",
       "terminado                                   0.13.1\n",
       "tornado                                     6.3.2\n",
       "traitlets                                   5.9.0\n",
       "typing_extensions                           NA\n",
       "uri_template                                NA\n",
       "urllib3                                     1.26.9\n",
       "wcwidth                                     0.2.5\n",
       "webcolors                                   1.11.1\n",
       "websocket                                   0.58.0\n",
       "wrapt                                       1.11.2\n",
       "zipp                                        NA\n",
       "zmq                                         25.1.0\n",
       "zope                                        NA\n",
       "</pre>\n",
       "</details> <!-- seems like this ends pre, so might as well be explicit -->\n",
       "<pre>\n",
       "-----\n",
       "IPython             8.4.0\n",
       "jupyter_client      7.2.2\n",
       "jupyter_core        5.3.1\n",
       "jupyterlab          3.6.5\n",
       "notebook            6.4.11\n",
       "-----\n",
       "Python 3.8.5 (default, Sep  4 2020, 02:22:02) [Clang 10.0.0 ]\n",
       "macOS-10.15.7-x86_64-i386-64bit\n",
       "-----\n",
       "Session information updated at 2023-09-07 19:27\n",
       "</pre>\n",
       "</details>"
      ],
      "text/plain": [
       "<IPython.core.display.HTML object>"
      ]
     },
     "execution_count": 10,
     "metadata": {},
     "output_type": "execute_result"
    }
   ],
   "source": [
    "import session_info\n",
    "session_info.show()"
   ]
  }
 ],
 "metadata": {
  "kernelspec": {
   "display_name": "Python 3 (ipykernel)",
   "language": "python",
   "name": "python3"
  },
  "language_info": {
   "codemirror_mode": {
    "name": "ipython",
    "version": 3
   },
   "file_extension": ".py",
   "mimetype": "text/x-python",
   "name": "python",
   "nbconvert_exporter": "python",
   "pygments_lexer": "ipython3",
   "version": "3.8.5"
  }
 },
 "nbformat": 4,
 "nbformat_minor": 4
}
